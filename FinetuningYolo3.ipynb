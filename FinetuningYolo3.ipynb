{
  "nbformat": 4,
  "nbformat_minor": 0,
  "metadata": {
    "colab": {
      "name": "FinetuningYolo3_Done.ipynb",
      "provenance": [],
      "machine_shape": "hm"
    },
    "kernelspec": {
      "name": "python3",
      "display_name": "Python 3"
    },
    "language_info": {
      "name": "python"
    },
    "accelerator": "GPU"
  },
  "cells": [
    {
      "cell_type": "markdown",
      "metadata": {
        "id": "ES_OXnYZRMm_"
      },
      "source": [
        "# Fine-tuning Yolov3 на своих классах с помощью фреймворка darknet"
      ]
    },
    {
      "cell_type": "code",
      "metadata": {
        "id": "7XNdfYn2kbl7"
      },
      "source": [
        "import cv2\n",
        "import os\n",
        "\n",
        "from PIL import Image, ImageOps\n",
        "import numpy\n",
        "import random\n",
        "\n",
        "import cv2\n",
        "import torch\n",
        "\n",
        "from IPython.display import Image\n",
        "from IPython.display import display, Javascript\n",
        "from google.colab.output import eval_js\n",
        "from base64 import b64decode"
      ],
      "execution_count": null,
      "outputs": []
    },
    {
      "cell_type": "markdown",
      "metadata": {
        "id": "JGZzdLOGz2_l"
      },
      "source": [
        "**Монтируем диск**"
      ]
    },
    {
      "cell_type": "code",
      "metadata": {
        "colab": {
          "base_uri": "https://localhost:8080/"
        },
        "id": "bLZHvn8Xdi5s",
        "outputId": "5514b037-7ac0-45c2-f8db-ed150f6d838a"
      },
      "source": [
        "from google.colab import drive\n",
        "drive.mount('/content/drive')"
      ],
      "execution_count": null,
      "outputs": [
        {
          "output_type": "stream",
          "text": [
            "Mounted at /content/drive\n"
          ],
          "name": "stdout"
        }
      ]
    },
    {
      "cell_type": "markdown",
      "metadata": {
        "id": "LagqRC570nvR"
      },
      "source": [
        "**Клонируем репозиторий darknet-фреймворк**"
      ]
    },
    {
      "cell_type": "code",
      "metadata": {
        "id": "6ly0bFRk0Fie"
      },
      "source": [
        "path = ''\n",
        "cd /content/drive/MyDrive/Dataset/FineTuningYolo3"
      ],
      "execution_count": null,
      "outputs": []
    },
    {
      "cell_type": "code",
      "metadata": {
        "colab": {
          "base_uri": "https://localhost:8080/"
        },
        "id": "CNXMUosH2nnZ",
        "outputId": "ed17cfa1-2d9f-4a66-b476-b21caf2bb142"
      },
      "source": [
        "!git clone https://github.com/pjreddie/darknet"
      ],
      "execution_count": null,
      "outputs": [
        {
          "output_type": "stream",
          "text": [
            "Cloning into 'darknet'...\n",
            "remote: Enumerating objects: 5937, done.\u001b[K\n",
            "remote: Total 5937 (delta 0), reused 0 (delta 0), pack-reused 5937\u001b[K\n",
            "Receiving objects: 100% (5937/5937), 6.35 MiB | 2.29 MiB/s, done.\n",
            "Resolving deltas: 100% (3926/3926), done.\n",
            "Checking out files: 100% (979/979), done.\n"
          ],
          "name": "stdout"
        }
      ]
    },
    {
      "cell_type": "code",
      "metadata": {
        "colab": {
          "base_uri": "https://localhost:8080/"
        },
        "id": "AMDnYP6y2-4V",
        "outputId": "83de6c35-0e16-4eaa-b78a-f5ae68ad2db7"
      },
      "source": [
        "!make"
      ],
      "execution_count": null,
      "outputs": [
        {
          "output_type": "stream",
          "text": [
            "make: Nothing to be done for 'all'.\n"
          ],
          "name": "stdout"
        }
      ]
    },
    {
      "cell_type": "code",
      "metadata": {
        "colab": {
          "base_uri": "https://localhost:8080/"
        },
        "id": "4gzuSLQ0Cy7X",
        "outputId": "71cef20d-f689-402d-bea1-65280e147f24"
      },
      "source": [
        "!nvcc --version"
      ],
      "execution_count": null,
      "outputs": [
        {
          "output_type": "stream",
          "text": [
            "nvcc: NVIDIA (R) Cuda compiler driver\n",
            "Copyright (c) 2005-2020 NVIDIA Corporation\n",
            "Built on Wed_Jul_22_19:09:09_PDT_2020\n",
            "Cuda compilation tools, release 11.0, V11.0.221\n",
            "Build cuda_11.0_bu.TC445_37.28845127_0\n"
          ],
          "name": "stdout"
        }
      ]
    },
    {
      "cell_type": "code",
      "metadata": {
        "id": "zLuHUOxLaoA2"
      },
      "source": [
        "!chmod +x ./darknet"
      ],
      "execution_count": null,
      "outputs": []
    },
    {
      "cell_type": "code",
      "metadata": {
        "colab": {
          "base_uri": "https://localhost:8080/"
        },
        "id": "VEHfhAuI-Ufg",
        "outputId": "fba2592b-675e-4b34-c5f6-4ac11e919289"
      },
      "source": [
        "!./darknet"
      ],
      "execution_count": null,
      "outputs": [
        {
          "output_type": "stream",
          "text": [
            "usage: ./darknet <function>\n"
          ],
          "name": "stdout"
        }
      ]
    },
    {
      "cell_type": "markdown",
      "metadata": {
        "id": "ss55Yxpb1OTV"
      },
      "source": [
        "**Preprocessing**"
      ]
    },
    {
      "cell_type": "code",
      "metadata": {
        "id": "YJzzfAQZ-6ob"
      },
      "source": [
        "# Готовим структуру каталогов для изображений\n",
        "\n",
        "path_to_folder = '/content/drive/MyDrive/Dataset/FineTuningYolo3/img/' \n",
        "output_folder = '/content/drive/MyDrive/Dataset/FineTuningYolo3/img_aug/' \n",
        "img_names = os.listdir(path_to_folder)"
      ],
      "execution_count": null,
      "outputs": []
    },
    {
      "cell_type": "code",
      "metadata": {
        "id": "ozMRJ47Qmm_h"
      },
      "source": [
        "# Аугментация\n",
        "\n",
        "if not os.path.exists(output_folder):\n",
        "    os.makedirs(output_folder)\n",
        "\n",
        "def rotate(path_to_folder, img_name, output_folder):\n",
        "    im = Image.open(path_to_folder + img_name)\n",
        "    im.rotate(50).save(output_folder+\"rotate_\"+img_name, \"JPEG\") \n",
        "    \n",
        "def mirror(path_to_folder, img_name, output_folder):\n",
        "    im = Image.open(path_to_folder + img_name)\n",
        "    ImageOps.mirror(im).save(output_folder+\"mirror\"+img_name, \"JPEG\")\n",
        "\n",
        "for img in img_names:\n",
        "    rotate(path_to_folder, img, output_folder)\n",
        "    mirror(path_to_folder, img, output_folder)    "
      ],
      "execution_count": null,
      "outputs": []
    },
    {
      "cell_type": "code",
      "metadata": {
        "id": "ZQiBDV26EhaG"
      },
      "source": [
        "# Делим набор изображений на обучающую и тестовую выборку\n",
        "\n",
        "train_list = os.listdir('./obj/')\n",
        "test_samples = random.sample(train_list, k=30) \n",
        "train_samples = [i for i in train_list]\n",
        "len(train_samples), len(test_samples)\n",
        "f_path = './obj/'\n",
        "\n",
        "with open('train.txt', \"w\") as f:\n",
        "    for line in train_samples:\n",
        "        f.write(f_path+line+'\\n')\n",
        "\n",
        "with open('test.txt', \"w\") as f:\n",
        "    for line in test_samples:\n",
        "        f.write(f_path+line+'\\n')     "
      ],
      "execution_count": null,
      "outputs": []
    },
    {
      "cell_type": "code",
      "metadata": {
        "colab": {
          "base_uri": "https://localhost:8080/"
        },
        "id": "XL54cZg_Lozn",
        "outputId": "74e3ebb0-3bbf-4e9d-f4a0-593ddb9e8a9b"
      },
      "source": [
        "# Проверяем, доступен ли GPU\n",
        "\n",
        "is_cuda = torch.cuda.is_available()\n",
        "# If we have a GPU available, we'll set our device to GPU. We'll use this device variable later in our code.\n",
        "if is_cuda:\n",
        "    device = torch.device(\"cuda\")\n",
        "    print(\"GPU is available\")\n",
        "else:\n",
        "    device = torch.device(\"cpu\")\n",
        "    print(\"GPU not available, CPU used\")"
      ],
      "execution_count": null,
      "outputs": [
        {
          "output_type": "stream",
          "text": [
            "GPU is available\n"
          ],
          "name": "stdout"
        }
      ]
    },
    {
      "cell_type": "markdown",
      "metadata": {
        "id": "3c02EJ0W16M8"
      },
      "source": [
        "**Дообучение Yolov3 на своих классах (+3 человека)**"
      ]
    },
    {
      "cell_type": "code",
      "metadata": {
        "id": "-toPFJNPyAUt"
      },
      "source": [
        "!./darknet detector train /content/drive/MyDrive/Dataset/FineTuningYolo3/darknet/data/obj.data /content/drive/MyDrive/Dataset/FineTuningYolo3/darknet/cfg/yolo-obj.cfg /content/drive/MyDrive/Dataset/FineTuningYolo3/darknet/darknet19_448.conv.23"
      ],
      "execution_count": null,
      "outputs": []
    },
    {
      "cell_type": "markdown",
      "metadata": {
        "id": "rgGglovmSz9E"
      },
      "source": [
        "**Детекция лица по изображению**"
      ]
    },
    {
      "cell_type": "code",
      "metadata": {
        "colab": {
          "base_uri": "https://localhost:8080/"
        },
        "id": "KCFW6OwHzMxD",
        "outputId": "49f45b45-fb5b-4a4a-e538-e052ca7d71bf"
      },
      "source": [
        "!./darknet detector test /content/drive/MyDrive/Dataset/FineTuningYolo3/darknet/data/obj.data /content/drive/MyDrive/Dataset/FineTuningYolo3/darknet/cfg/yolo-obj.cfg /content/drive/MyDrive/Dataset/FineTuningYolo3/darknet/backup/yolo-obj_900.weights /content/drive/MyDrive/Dataset/FineTuningYolo3/JP_05853.jpg"
      ],
      "execution_count": null,
      "outputs": [
        {
          "output_type": "stream",
          "text": [
            "layer     filters    size              input                output\n",
            "    0 conv     32  3 x 3 / 1   416 x 416 x   3   ->   416 x 416 x  32  0.299 BFLOPs\n",
            "    1 max          2 x 2 / 2   416 x 416 x  32   ->   208 x 208 x  32\n",
            "    2 conv     64  3 x 3 / 1   208 x 208 x  32   ->   208 x 208 x  64  1.595 BFLOPs\n",
            "    3 max          2 x 2 / 2   208 x 208 x  64   ->   104 x 104 x  64\n",
            "    4 conv    128  3 x 3 / 1   104 x 104 x  64   ->   104 x 104 x 128  1.595 BFLOPs\n",
            "    5 conv     64  1 x 1 / 1   104 x 104 x 128   ->   104 x 104 x  64  0.177 BFLOPs\n",
            "    6 conv    128  3 x 3 / 1   104 x 104 x  64   ->   104 x 104 x 128  1.595 BFLOPs\n",
            "    7 max          2 x 2 / 2   104 x 104 x 128   ->    52 x  52 x 128\n",
            "    8 conv    256  3 x 3 / 1    52 x  52 x 128   ->    52 x  52 x 256  1.595 BFLOPs\n",
            "    9 conv    128  1 x 1 / 1    52 x  52 x 256   ->    52 x  52 x 128  0.177 BFLOPs\n",
            "   10 conv    256  3 x 3 / 1    52 x  52 x 128   ->    52 x  52 x 256  1.595 BFLOPs\n",
            "   11 max          2 x 2 / 2    52 x  52 x 256   ->    26 x  26 x 256\n",
            "   12 conv    512  3 x 3 / 1    26 x  26 x 256   ->    26 x  26 x 512  1.595 BFLOPs\n",
            "   13 conv    256  1 x 1 / 1    26 x  26 x 512   ->    26 x  26 x 256  0.177 BFLOPs\n",
            "   14 conv    512  3 x 3 / 1    26 x  26 x 256   ->    26 x  26 x 512  1.595 BFLOPs\n",
            "   15 conv    256  1 x 1 / 1    26 x  26 x 512   ->    26 x  26 x 256  0.177 BFLOPs\n",
            "   16 conv    512  3 x 3 / 1    26 x  26 x 256   ->    26 x  26 x 512  1.595 BFLOPs\n",
            "   17 max          2 x 2 / 2    26 x  26 x 512   ->    13 x  13 x 512\n",
            "   18 conv   1024  3 x 3 / 1    13 x  13 x 512   ->    13 x  13 x1024  1.595 BFLOPs\n",
            "   19 conv    512  1 x 1 / 1    13 x  13 x1024   ->    13 x  13 x 512  0.177 BFLOPs\n",
            "   20 conv   1024  3 x 3 / 1    13 x  13 x 512   ->    13 x  13 x1024  1.595 BFLOPs\n",
            "   21 conv    512  1 x 1 / 1    13 x  13 x1024   ->    13 x  13 x 512  0.177 BFLOPs\n",
            "   22 conv   1024  3 x 3 / 1    13 x  13 x 512   ->    13 x  13 x1024  1.595 BFLOPs\n",
            "   23 conv   1024  3 x 3 / 1    13 x  13 x1024   ->    13 x  13 x1024  3.190 BFLOPs\n",
            "   24 conv   1024  3 x 3 / 1    13 x  13 x1024   ->    13 x  13 x1024  3.190 BFLOPs\n",
            "   25 route  16\n",
            "   26 conv     64  1 x 1 / 1    26 x  26 x 512   ->    26 x  26 x  64  0.044 BFLOPs\n",
            "   27 reorg              / 2    26 x  26 x  64   ->    13 x  13 x 256\n",
            "   28 route  27 24\n",
            "   29 conv   1024  3 x 3 / 1    13 x  13 x1280   ->    13 x  13 x1024  3.987 BFLOPs\n",
            "   30 conv     40  1 x 1 / 1    13 x  13 x1024   ->    13 x  13 x  40  0.014 BFLOPs\n",
            "   31 detection\n",
            "mask_scale: Using default '1.000000'\n",
            "Loading weights from /content/drive/MyDrive/Dataset/FineTuningYolo3/darknet/backup/yolo-obj_900.weights...Done!\n",
            "/content/drive/MyDrive/Dataset/FineTuningYolo3/JP_05853.jpg: Predicted in 0.250917 seconds.\n",
            "Yulya: 90%\n"
          ],
          "name": "stdout"
        }
      ]
    },
    {
      "cell_type": "markdown",
      "metadata": {
        "id": "0HzLOGyapzvl"
      },
      "source": [
        "**Детекция лица в режиме реального времени (получаем изображение Capture)**"
      ]
    },
    {
      "cell_type": "code",
      "metadata": {
        "id": "6tRdnXS_x2sg"
      },
      "source": [
        "# Подключаем веб-камеру в colab\n",
        "\n",
        "def take_photo(filename='photo.jpg', quality=0.8):\n",
        "  js = Javascript('''\n",
        "    async function takePhoto(quality) {\n",
        "      const div = document.createElement('div');\n",
        "      const capture = document.createElement('button');\n",
        "      capture.textContent = 'Capture';\n",
        "      div.appendChild(capture);\n",
        "\n",
        "      const video = document.createElement('video');\n",
        "      video.style.display = 'block';\n",
        "      const stream = await navigator.mediaDevices.getUserMedia({video: true});\n",
        "\n",
        "      document.body.appendChild(div);\n",
        "      div.appendChild(video);\n",
        "      video.srcObject = stream;\n",
        "      await video.play();\n",
        "\n",
        "      // Resize the output to fit the video element.\n",
        "      google.colab.output.setIframeHeight(document.documentElement.scrollHeight, true);\n",
        "\n",
        "      // Wait for Capture to be clicked.\n",
        "      await new Promise((resolve) => capture.onclick = resolve);\n",
        "\n",
        "      const canvas = document.createElement('canvas');\n",
        "      canvas.width = video.videoWidth;\n",
        "      canvas.height = video.videoHeight;\n",
        "      canvas.getContext('2d').drawImage(video, 0, 0);\n",
        "      stream.getVideoTracks()[0].stop();\n",
        "      div.remove();\n",
        "      return canvas.toDataURL('image/jpeg', quality);\n",
        "    }\n",
        "    ''')\n",
        "  display(js)\n",
        "  data = eval_js('takePhoto({})'.format(quality))\n",
        "  binary = b64decode(data.split(',')[1])\n",
        "  with open(filename, 'wb') as f:\n",
        "    f.write(binary)\n",
        "  return filename"
      ],
      "execution_count": null,
      "outputs": []
    },
    {
      "cell_type": "code",
      "metadata": {
        "id": "SamIt8atx2sn"
      },
      "source": [
        "# По нажатию на кнопку \"take_photo\" сохраняется изображение в корневую папку текущего репозитория\n",
        "\n",
        "try:\n",
        "  filename = take_photo()\n",
        "  print('Saved to {}'.format(filename))\n",
        "  \n",
        "  # Show the image which was just taken.\n",
        "  display(Image(filename))\n",
        "except Exception as err:\n",
        "  # Errors will be thrown if the user does not have a webcam or if they do not\n",
        "  # grant the page permission to access it.\n",
        "  print(str(err))"
      ],
      "execution_count": null,
      "outputs": []
    },
    {
      "cell_type": "code",
      "metadata": {
        "id": "MJ1sK7UCywzX"
      },
      "source": [
        "# Детекция лица в веб-камере по изображению\n",
        "!./darknet detector test /content/drive/MyDrive/Dataset/FineTuningYolo3/darknet/data/obj.data /content/drive/MyDrive/Dataset/FineTuningYolo3/darknet/cfg/yolo-obj.cfg /content/drive/MyDrive/Dataset/FineTuningYolo3/darknet/backup/yolo-obj_900.weights /content/drive/MyDrive/Dataset/FineTuningYolo3/JP_05853.jpg"
      ],
      "execution_count": null,
      "outputs": []
    }
  ]
}